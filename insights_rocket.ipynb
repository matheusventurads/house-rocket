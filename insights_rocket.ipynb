{
 "cells": [
  {
   "cell_type": "markdown",
   "id": "7fa69edf-9601-4e82-855d-6f0c277f2a1b",
   "metadata": {},
   "source": [
    "# Importando bibliotecas"
   ]
  },
  {
   "cell_type": "code",
   "execution_count": 1,
   "id": "9793ddd9-54b7-45ad-bb07-a6f72889ce63",
   "metadata": {},
   "outputs": [],
   "source": [
    "import pandas  as pd\n",
    "import numpy   as np\n",
    "import seaborn as sns\n",
    "\n",
    "from matplotlib  import pyplot as plt\n",
    "from scipy.stats import kurtosis, skew"
   ]
  },
  {
   "cell_type": "markdown",
   "id": "4bb1fd72-0560-40f1-8a40-0f6a0f033086",
   "metadata": {
    "tags": []
   },
   "source": [
    "# Coleta dos dados e visão geral"
   ]
  },
  {
   "cell_type": "code",
   "execution_count": 2,
   "id": "50a7a5b4-4986-48bb-84f1-bb6f2848506b",
   "metadata": {},
   "outputs": [],
   "source": [
    "# Extraindo os dados\n",
    "data = pd.read_csv('kc_house_data.csv')"
   ]
  },
  {
   "cell_type": "code",
   "execution_count": 3,
   "id": "b4c1fa79-ebc9-44ce-9f7f-7cff682761e9",
   "metadata": {},
   "outputs": [
    {
     "data": {
      "text/html": [
       "<div>\n",
       "<style scoped>\n",
       "    .dataframe tbody tr th:only-of-type {\n",
       "        vertical-align: middle;\n",
       "    }\n",
       "\n",
       "    .dataframe tbody tr th {\n",
       "        vertical-align: top;\n",
       "    }\n",
       "\n",
       "    .dataframe thead th {\n",
       "        text-align: right;\n",
       "    }\n",
       "</style>\n",
       "<table border=\"1\" class=\"dataframe\">\n",
       "  <thead>\n",
       "    <tr style=\"text-align: right;\">\n",
       "      <th></th>\n",
       "      <th>id</th>\n",
       "      <th>date</th>\n",
       "      <th>price</th>\n",
       "      <th>bedrooms</th>\n",
       "      <th>bathrooms</th>\n",
       "      <th>sqft_living</th>\n",
       "      <th>sqft_lot</th>\n",
       "      <th>floors</th>\n",
       "      <th>waterfront</th>\n",
       "      <th>view</th>\n",
       "      <th>...</th>\n",
       "      <th>grade</th>\n",
       "      <th>sqft_above</th>\n",
       "      <th>sqft_basement</th>\n",
       "      <th>yr_built</th>\n",
       "      <th>yr_renovated</th>\n",
       "      <th>zipcode</th>\n",
       "      <th>lat</th>\n",
       "      <th>long</th>\n",
       "      <th>sqft_living15</th>\n",
       "      <th>sqft_lot15</th>\n",
       "    </tr>\n",
       "  </thead>\n",
       "  <tbody>\n",
       "    <tr>\n",
       "      <th>0</th>\n",
       "      <td>7129300520</td>\n",
       "      <td>20141013T000000</td>\n",
       "      <td>221900.0</td>\n",
       "      <td>3</td>\n",
       "      <td>1.00</td>\n",
       "      <td>1180</td>\n",
       "      <td>5650</td>\n",
       "      <td>1.0</td>\n",
       "      <td>0</td>\n",
       "      <td>0</td>\n",
       "      <td>...</td>\n",
       "      <td>7</td>\n",
       "      <td>1180</td>\n",
       "      <td>0</td>\n",
       "      <td>1955</td>\n",
       "      <td>0</td>\n",
       "      <td>98178</td>\n",
       "      <td>47.5112</td>\n",
       "      <td>-122.257</td>\n",
       "      <td>1340</td>\n",
       "      <td>5650</td>\n",
       "    </tr>\n",
       "    <tr>\n",
       "      <th>1</th>\n",
       "      <td>6414100192</td>\n",
       "      <td>20141209T000000</td>\n",
       "      <td>538000.0</td>\n",
       "      <td>3</td>\n",
       "      <td>2.25</td>\n",
       "      <td>2570</td>\n",
       "      <td>7242</td>\n",
       "      <td>2.0</td>\n",
       "      <td>0</td>\n",
       "      <td>0</td>\n",
       "      <td>...</td>\n",
       "      <td>7</td>\n",
       "      <td>2170</td>\n",
       "      <td>400</td>\n",
       "      <td>1951</td>\n",
       "      <td>1991</td>\n",
       "      <td>98125</td>\n",
       "      <td>47.7210</td>\n",
       "      <td>-122.319</td>\n",
       "      <td>1690</td>\n",
       "      <td>7639</td>\n",
       "    </tr>\n",
       "    <tr>\n",
       "      <th>2</th>\n",
       "      <td>5631500400</td>\n",
       "      <td>20150225T000000</td>\n",
       "      <td>180000.0</td>\n",
       "      <td>2</td>\n",
       "      <td>1.00</td>\n",
       "      <td>770</td>\n",
       "      <td>10000</td>\n",
       "      <td>1.0</td>\n",
       "      <td>0</td>\n",
       "      <td>0</td>\n",
       "      <td>...</td>\n",
       "      <td>6</td>\n",
       "      <td>770</td>\n",
       "      <td>0</td>\n",
       "      <td>1933</td>\n",
       "      <td>0</td>\n",
       "      <td>98028</td>\n",
       "      <td>47.7379</td>\n",
       "      <td>-122.233</td>\n",
       "      <td>2720</td>\n",
       "      <td>8062</td>\n",
       "    </tr>\n",
       "    <tr>\n",
       "      <th>3</th>\n",
       "      <td>2487200875</td>\n",
       "      <td>20141209T000000</td>\n",
       "      <td>604000.0</td>\n",
       "      <td>4</td>\n",
       "      <td>3.00</td>\n",
       "      <td>1960</td>\n",
       "      <td>5000</td>\n",
       "      <td>1.0</td>\n",
       "      <td>0</td>\n",
       "      <td>0</td>\n",
       "      <td>...</td>\n",
       "      <td>7</td>\n",
       "      <td>1050</td>\n",
       "      <td>910</td>\n",
       "      <td>1965</td>\n",
       "      <td>0</td>\n",
       "      <td>98136</td>\n",
       "      <td>47.5208</td>\n",
       "      <td>-122.393</td>\n",
       "      <td>1360</td>\n",
       "      <td>5000</td>\n",
       "    </tr>\n",
       "    <tr>\n",
       "      <th>4</th>\n",
       "      <td>1954400510</td>\n",
       "      <td>20150218T000000</td>\n",
       "      <td>510000.0</td>\n",
       "      <td>3</td>\n",
       "      <td>2.00</td>\n",
       "      <td>1680</td>\n",
       "      <td>8080</td>\n",
       "      <td>1.0</td>\n",
       "      <td>0</td>\n",
       "      <td>0</td>\n",
       "      <td>...</td>\n",
       "      <td>8</td>\n",
       "      <td>1680</td>\n",
       "      <td>0</td>\n",
       "      <td>1987</td>\n",
       "      <td>0</td>\n",
       "      <td>98074</td>\n",
       "      <td>47.6168</td>\n",
       "      <td>-122.045</td>\n",
       "      <td>1800</td>\n",
       "      <td>7503</td>\n",
       "    </tr>\n",
       "  </tbody>\n",
       "</table>\n",
       "<p>5 rows × 21 columns</p>\n",
       "</div>"
      ],
      "text/plain": [
       "           id             date     price  bedrooms  bathrooms  sqft_living  \\\n",
       "0  7129300520  20141013T000000  221900.0         3       1.00         1180   \n",
       "1  6414100192  20141209T000000  538000.0         3       2.25         2570   \n",
       "2  5631500400  20150225T000000  180000.0         2       1.00          770   \n",
       "3  2487200875  20141209T000000  604000.0         4       3.00         1960   \n",
       "4  1954400510  20150218T000000  510000.0         3       2.00         1680   \n",
       "\n",
       "   sqft_lot  floors  waterfront  view  ...  grade  sqft_above  sqft_basement  \\\n",
       "0      5650     1.0           0     0  ...      7        1180              0   \n",
       "1      7242     2.0           0     0  ...      7        2170            400   \n",
       "2     10000     1.0           0     0  ...      6         770              0   \n",
       "3      5000     1.0           0     0  ...      7        1050            910   \n",
       "4      8080     1.0           0     0  ...      8        1680              0   \n",
       "\n",
       "   yr_built  yr_renovated  zipcode      lat     long  sqft_living15  \\\n",
       "0      1955             0    98178  47.5112 -122.257           1340   \n",
       "1      1951          1991    98125  47.7210 -122.319           1690   \n",
       "2      1933             0    98028  47.7379 -122.233           2720   \n",
       "3      1965             0    98136  47.5208 -122.393           1360   \n",
       "4      1987             0    98074  47.6168 -122.045           1800   \n",
       "\n",
       "   sqft_lot15  \n",
       "0        5650  \n",
       "1        7639  \n",
       "2        8062  \n",
       "3        5000  \n",
       "4        7503  \n",
       "\n",
       "[5 rows x 21 columns]"
      ]
     },
     "execution_count": 3,
     "metadata": {},
     "output_type": "execute_result"
    }
   ],
   "source": [
    "# Visão geral dos dados\n",
    "data.head()"
   ]
  },
  {
   "cell_type": "code",
   "execution_count": 4,
   "id": "69dd8ebe-815f-4488-b4aa-57067e2b9e5a",
   "metadata": {},
   "outputs": [
    {
     "data": {
      "text/plain": [
       "id               0\n",
       "date             0\n",
       "price            0\n",
       "bedrooms         0\n",
       "bathrooms        0\n",
       "sqft_living      0\n",
       "sqft_lot         0\n",
       "floors           0\n",
       "waterfront       0\n",
       "view             0\n",
       "condition        0\n",
       "grade            0\n",
       "sqft_above       0\n",
       "sqft_basement    0\n",
       "yr_built         0\n",
       "yr_renovated     0\n",
       "zipcode          0\n",
       "lat              0\n",
       "long             0\n",
       "sqft_living15    0\n",
       "sqft_lot15       0\n",
       "dtype: int64"
      ]
     },
     "execution_count": 4,
     "metadata": {},
     "output_type": "execute_result"
    }
   ],
   "source": [
    "# Conferindo valores nulos\n",
    "data.isna().sum()"
   ]
  },
  {
   "cell_type": "code",
   "execution_count": 5,
   "id": "29ee2743-0e4a-4e36-b2eb-f63533378d27",
   "metadata": {},
   "outputs": [
    {
     "data": {
      "text/plain": [
       "id                 int64\n",
       "date              object\n",
       "price            float64\n",
       "bedrooms           int64\n",
       "bathrooms        float64\n",
       "sqft_living        int64\n",
       "sqft_lot           int64\n",
       "floors           float64\n",
       "waterfront         int64\n",
       "view               int64\n",
       "condition          int64\n",
       "grade              int64\n",
       "sqft_above         int64\n",
       "sqft_basement      int64\n",
       "yr_built           int64\n",
       "yr_renovated       int64\n",
       "zipcode            int64\n",
       "lat              float64\n",
       "long             float64\n",
       "sqft_living15      int64\n",
       "sqft_lot15         int64\n",
       "dtype: object"
      ]
     },
     "execution_count": 5,
     "metadata": {},
     "output_type": "execute_result"
    }
   ],
   "source": [
    "# Tipos das colunas\n",
    "data.dtypes"
   ]
  },
  {
   "cell_type": "markdown",
   "id": "e6e5ce96-9e35-4662-8410-2c65c8c1b04e",
   "metadata": {},
   "source": [
    "# Transformação dos dados"
   ]
  },
  {
   "cell_type": "code",
   "execution_count": 6,
   "id": "feb8bb6e-a5a5-424e-aec2-cb78cc80292e",
   "metadata": {},
   "outputs": [],
   "source": [
    "# Transformando a coluna date no tipo datetime\n",
    "data['date'] = pd.to_datetime(data['date'])\n",
    "\n",
    "# Suprimindo notação científica\n",
    "pd.options.display.float_format = '{:.2f}'.format"
   ]
  },
  {
   "cell_type": "markdown",
   "id": "84989561-28e6-4c89-9243-ed44d9ebf2d7",
   "metadata": {
    "tags": []
   },
   "source": [
    "# Análise descritiva"
   ]
  },
  {
   "cell_type": "code",
   "execution_count": 7,
   "id": "2f4d0daf-b57f-4741-85ed-6f7c865a879c",
   "metadata": {},
   "outputs": [],
   "source": [
    "# Selecionando somente colunas númericas\n",
    "num_attributes = data.select_dtypes(include=['int64', 'float64'])"
   ]
  },
  {
   "cell_type": "code",
   "execution_count": 8,
   "id": "42be7c75-8241-4f1a-87f7-9d21573fa346",
   "metadata": {},
   "outputs": [],
   "source": [
    "# Medidas de dispersão\n",
    "media = pd.DataFrame(num_attributes.apply(np.mean))\n",
    "mediana = pd.DataFrame(num_attributes.apply(np.median))\n",
    "max_ = pd.DataFrame(num_attributes.apply(np.max))\n",
    "min_ = pd.DataFrame(num_attributes.apply(np.min))\n",
    "range_ = pd.DataFrame(num_attributes.apply(lambda column: column.max() - column.min(), axis=0))\n",
    "std = pd.DataFrame(num_attributes.apply(np.std))\n",
    "skew = pd.DataFrame(num_attributes.apply(skew))\n",
    "kurtosis = pd.DataFrame(num_attributes.apply(kurtosis))"
   ]
  },
  {
   "cell_type": "code",
   "execution_count": 9,
   "id": "8473ba60-243c-4c87-b519-d238e4576a24",
   "metadata": {},
   "outputs": [
    {
     "data": {
      "text/html": [
       "<div>\n",
       "<style scoped>\n",
       "    .dataframe tbody tr th:only-of-type {\n",
       "        vertical-align: middle;\n",
       "    }\n",
       "\n",
       "    .dataframe tbody tr th {\n",
       "        vertical-align: top;\n",
       "    }\n",
       "\n",
       "    .dataframe thead th {\n",
       "        text-align: right;\n",
       "    }\n",
       "</style>\n",
       "<table border=\"1\" class=\"dataframe\">\n",
       "  <thead>\n",
       "    <tr style=\"text-align: right;\">\n",
       "      <th></th>\n",
       "      <th>mean</th>\n",
       "      <th>median</th>\n",
       "      <th>max</th>\n",
       "      <th>min</th>\n",
       "      <th>range</th>\n",
       "      <th>std</th>\n",
       "      <th>skew</th>\n",
       "      <th>kurtosis</th>\n",
       "    </tr>\n",
       "  </thead>\n",
       "  <tbody>\n",
       "    <tr>\n",
       "      <th>id</th>\n",
       "      <td>4580301520.86</td>\n",
       "      <td>3904930410.00</td>\n",
       "      <td>9900000190.00</td>\n",
       "      <td>1000102.00</td>\n",
       "      <td>9899000088.00</td>\n",
       "      <td>2876499023.43</td>\n",
       "      <td>0.24</td>\n",
       "      <td>-1.26</td>\n",
       "    </tr>\n",
       "    <tr>\n",
       "      <th>price</th>\n",
       "      <td>540088.14</td>\n",
       "      <td>450000.00</td>\n",
       "      <td>7700000.00</td>\n",
       "      <td>75000.00</td>\n",
       "      <td>7625000.00</td>\n",
       "      <td>367118.70</td>\n",
       "      <td>4.02</td>\n",
       "      <td>34.58</td>\n",
       "    </tr>\n",
       "    <tr>\n",
       "      <th>bedrooms</th>\n",
       "      <td>3.37</td>\n",
       "      <td>3.00</td>\n",
       "      <td>33.00</td>\n",
       "      <td>0.00</td>\n",
       "      <td>33.00</td>\n",
       "      <td>0.93</td>\n",
       "      <td>1.97</td>\n",
       "      <td>49.05</td>\n",
       "    </tr>\n",
       "    <tr>\n",
       "      <th>bathrooms</th>\n",
       "      <td>2.11</td>\n",
       "      <td>2.25</td>\n",
       "      <td>8.00</td>\n",
       "      <td>0.00</td>\n",
       "      <td>8.00</td>\n",
       "      <td>0.77</td>\n",
       "      <td>0.51</td>\n",
       "      <td>1.28</td>\n",
       "    </tr>\n",
       "    <tr>\n",
       "      <th>sqft_living</th>\n",
       "      <td>2079.90</td>\n",
       "      <td>1910.00</td>\n",
       "      <td>13540.00</td>\n",
       "      <td>290.00</td>\n",
       "      <td>13250.00</td>\n",
       "      <td>918.42</td>\n",
       "      <td>1.47</td>\n",
       "      <td>5.24</td>\n",
       "    </tr>\n",
       "    <tr>\n",
       "      <th>sqft_lot</th>\n",
       "      <td>15106.97</td>\n",
       "      <td>7618.00</td>\n",
       "      <td>1651359.00</td>\n",
       "      <td>520.00</td>\n",
       "      <td>1650839.00</td>\n",
       "      <td>41419.55</td>\n",
       "      <td>13.06</td>\n",
       "      <td>285.01</td>\n",
       "    </tr>\n",
       "    <tr>\n",
       "      <th>floors</th>\n",
       "      <td>1.49</td>\n",
       "      <td>1.50</td>\n",
       "      <td>3.50</td>\n",
       "      <td>1.00</td>\n",
       "      <td>2.50</td>\n",
       "      <td>0.54</td>\n",
       "      <td>0.62</td>\n",
       "      <td>-0.48</td>\n",
       "    </tr>\n",
       "    <tr>\n",
       "      <th>waterfront</th>\n",
       "      <td>0.01</td>\n",
       "      <td>0.00</td>\n",
       "      <td>1.00</td>\n",
       "      <td>0.00</td>\n",
       "      <td>1.00</td>\n",
       "      <td>0.09</td>\n",
       "      <td>11.38</td>\n",
       "      <td>127.60</td>\n",
       "    </tr>\n",
       "    <tr>\n",
       "      <th>view</th>\n",
       "      <td>0.23</td>\n",
       "      <td>0.00</td>\n",
       "      <td>4.00</td>\n",
       "      <td>0.00</td>\n",
       "      <td>4.00</td>\n",
       "      <td>0.77</td>\n",
       "      <td>3.40</td>\n",
       "      <td>10.89</td>\n",
       "    </tr>\n",
       "    <tr>\n",
       "      <th>condition</th>\n",
       "      <td>3.41</td>\n",
       "      <td>3.00</td>\n",
       "      <td>5.00</td>\n",
       "      <td>1.00</td>\n",
       "      <td>4.00</td>\n",
       "      <td>0.65</td>\n",
       "      <td>1.03</td>\n",
       "      <td>0.53</td>\n",
       "    </tr>\n",
       "    <tr>\n",
       "      <th>grade</th>\n",
       "      <td>7.66</td>\n",
       "      <td>7.00</td>\n",
       "      <td>13.00</td>\n",
       "      <td>1.00</td>\n",
       "      <td>12.00</td>\n",
       "      <td>1.18</td>\n",
       "      <td>0.77</td>\n",
       "      <td>1.19</td>\n",
       "    </tr>\n",
       "    <tr>\n",
       "      <th>sqft_above</th>\n",
       "      <td>1788.39</td>\n",
       "      <td>1560.00</td>\n",
       "      <td>9410.00</td>\n",
       "      <td>290.00</td>\n",
       "      <td>9120.00</td>\n",
       "      <td>828.07</td>\n",
       "      <td>1.45</td>\n",
       "      <td>3.40</td>\n",
       "    </tr>\n",
       "    <tr>\n",
       "      <th>sqft_basement</th>\n",
       "      <td>291.51</td>\n",
       "      <td>0.00</td>\n",
       "      <td>4820.00</td>\n",
       "      <td>0.00</td>\n",
       "      <td>4820.00</td>\n",
       "      <td>442.56</td>\n",
       "      <td>1.58</td>\n",
       "      <td>2.71</td>\n",
       "    </tr>\n",
       "    <tr>\n",
       "      <th>yr_built</th>\n",
       "      <td>1971.01</td>\n",
       "      <td>1975.00</td>\n",
       "      <td>2015.00</td>\n",
       "      <td>1900.00</td>\n",
       "      <td>115.00</td>\n",
       "      <td>29.37</td>\n",
       "      <td>-0.47</td>\n",
       "      <td>-0.66</td>\n",
       "    </tr>\n",
       "    <tr>\n",
       "      <th>yr_renovated</th>\n",
       "      <td>84.40</td>\n",
       "      <td>0.00</td>\n",
       "      <td>2015.00</td>\n",
       "      <td>0.00</td>\n",
       "      <td>2015.00</td>\n",
       "      <td>401.67</td>\n",
       "      <td>4.55</td>\n",
       "      <td>18.70</td>\n",
       "    </tr>\n",
       "    <tr>\n",
       "      <th>zipcode</th>\n",
       "      <td>98077.94</td>\n",
       "      <td>98065.00</td>\n",
       "      <td>98199.00</td>\n",
       "      <td>98001.00</td>\n",
       "      <td>198.00</td>\n",
       "      <td>53.50</td>\n",
       "      <td>0.41</td>\n",
       "      <td>-0.85</td>\n",
       "    </tr>\n",
       "    <tr>\n",
       "      <th>lat</th>\n",
       "      <td>47.56</td>\n",
       "      <td>47.57</td>\n",
       "      <td>47.78</td>\n",
       "      <td>47.16</td>\n",
       "      <td>0.62</td>\n",
       "      <td>0.14</td>\n",
       "      <td>-0.49</td>\n",
       "      <td>-0.68</td>\n",
       "    </tr>\n",
       "    <tr>\n",
       "      <th>long</th>\n",
       "      <td>-122.21</td>\n",
       "      <td>-122.23</td>\n",
       "      <td>-121.31</td>\n",
       "      <td>-122.52</td>\n",
       "      <td>1.20</td>\n",
       "      <td>0.14</td>\n",
       "      <td>0.88</td>\n",
       "      <td>1.05</td>\n",
       "    </tr>\n",
       "    <tr>\n",
       "      <th>sqft_living15</th>\n",
       "      <td>1986.55</td>\n",
       "      <td>1840.00</td>\n",
       "      <td>6210.00</td>\n",
       "      <td>399.00</td>\n",
       "      <td>5811.00</td>\n",
       "      <td>685.38</td>\n",
       "      <td>1.11</td>\n",
       "      <td>1.60</td>\n",
       "    </tr>\n",
       "    <tr>\n",
       "      <th>sqft_lot15</th>\n",
       "      <td>12768.46</td>\n",
       "      <td>7620.00</td>\n",
       "      <td>871200.00</td>\n",
       "      <td>651.00</td>\n",
       "      <td>870549.00</td>\n",
       "      <td>27303.55</td>\n",
       "      <td>9.51</td>\n",
       "      <td>150.73</td>\n",
       "    </tr>\n",
       "  </tbody>\n",
       "</table>\n",
       "</div>"
      ],
      "text/plain": [
       "                       mean        median           max        min  \\\n",
       "id            4580301520.86 3904930410.00 9900000190.00 1000102.00   \n",
       "price             540088.14     450000.00    7700000.00   75000.00   \n",
       "bedrooms               3.37          3.00         33.00       0.00   \n",
       "bathrooms              2.11          2.25          8.00       0.00   \n",
       "sqft_living         2079.90       1910.00      13540.00     290.00   \n",
       "sqft_lot           15106.97       7618.00    1651359.00     520.00   \n",
       "floors                 1.49          1.50          3.50       1.00   \n",
       "waterfront             0.01          0.00          1.00       0.00   \n",
       "view                   0.23          0.00          4.00       0.00   \n",
       "condition              3.41          3.00          5.00       1.00   \n",
       "grade                  7.66          7.00         13.00       1.00   \n",
       "sqft_above          1788.39       1560.00       9410.00     290.00   \n",
       "sqft_basement        291.51          0.00       4820.00       0.00   \n",
       "yr_built            1971.01       1975.00       2015.00    1900.00   \n",
       "yr_renovated          84.40          0.00       2015.00       0.00   \n",
       "zipcode            98077.94      98065.00      98199.00   98001.00   \n",
       "lat                   47.56         47.57         47.78      47.16   \n",
       "long                -122.21       -122.23       -121.31    -122.52   \n",
       "sqft_living15       1986.55       1840.00       6210.00     399.00   \n",
       "sqft_lot15         12768.46       7620.00     871200.00     651.00   \n",
       "\n",
       "                      range           std  skew  kurtosis  \n",
       "id            9899000088.00 2876499023.43  0.24     -1.26  \n",
       "price            7625000.00     367118.70  4.02     34.58  \n",
       "bedrooms              33.00          0.93  1.97     49.05  \n",
       "bathrooms              8.00          0.77  0.51      1.28  \n",
       "sqft_living        13250.00        918.42  1.47      5.24  \n",
       "sqft_lot         1650839.00      41419.55 13.06    285.01  \n",
       "floors                 2.50          0.54  0.62     -0.48  \n",
       "waterfront             1.00          0.09 11.38    127.60  \n",
       "view                   4.00          0.77  3.40     10.89  \n",
       "condition              4.00          0.65  1.03      0.53  \n",
       "grade                 12.00          1.18  0.77      1.19  \n",
       "sqft_above          9120.00        828.07  1.45      3.40  \n",
       "sqft_basement       4820.00        442.56  1.58      2.71  \n",
       "yr_built             115.00         29.37 -0.47     -0.66  \n",
       "yr_renovated        2015.00        401.67  4.55     18.70  \n",
       "zipcode              198.00         53.50  0.41     -0.85  \n",
       "lat                    0.62          0.14 -0.49     -0.68  \n",
       "long                   1.20          0.14  0.88      1.05  \n",
       "sqft_living15       5811.00        685.38  1.11      1.60  \n",
       "sqft_lot15        870549.00      27303.55  9.51    150.73  "
      ]
     },
     "execution_count": 9,
     "metadata": {},
     "output_type": "execute_result"
    }
   ],
   "source": [
    "statistics = pd.concat([media, mediana, max_, min_, range_, std, skew, kurtosis], axis=1)\n",
    "statistics.columns = ['mean', 'median', 'max', 'min', 'range', 'std', 'skew', 'kurtosis']\n",
    "statistics"
   ]
  },
  {
   "cell_type": "markdown",
   "id": "8b068453-7b95-4f7e-b8cb-2132da7f92e5",
   "metadata": {},
   "source": [
    "# Limpeza dos dados"
   ]
  },
  {
   "cell_type": "markdown",
   "id": "17c93144-854e-44cb-929b-4b9673b9b2af",
   "metadata": {},
   "source": [
    "## Análise do imóvel com 33 quartos"
   ]
  },
  {
   "cell_type": "code",
   "execution_count": 10,
   "id": "83b834ef-53fd-43b6-9243-4e9d2a1b6595",
   "metadata": {},
   "outputs": [
    {
     "data": {
      "text/html": [
       "<div>\n",
       "<style scoped>\n",
       "    .dataframe tbody tr th:only-of-type {\n",
       "        vertical-align: middle;\n",
       "    }\n",
       "\n",
       "    .dataframe tbody tr th {\n",
       "        vertical-align: top;\n",
       "    }\n",
       "\n",
       "    .dataframe thead th {\n",
       "        text-align: right;\n",
       "    }\n",
       "</style>\n",
       "<table border=\"1\" class=\"dataframe\">\n",
       "  <thead>\n",
       "    <tr style=\"text-align: right;\">\n",
       "      <th></th>\n",
       "      <th>id</th>\n",
       "      <th>date</th>\n",
       "      <th>price</th>\n",
       "      <th>bedrooms</th>\n",
       "      <th>bathrooms</th>\n",
       "      <th>sqft_living</th>\n",
       "      <th>sqft_lot</th>\n",
       "      <th>floors</th>\n",
       "      <th>waterfront</th>\n",
       "      <th>view</th>\n",
       "      <th>...</th>\n",
       "      <th>grade</th>\n",
       "      <th>sqft_above</th>\n",
       "      <th>sqft_basement</th>\n",
       "      <th>yr_built</th>\n",
       "      <th>yr_renovated</th>\n",
       "      <th>zipcode</th>\n",
       "      <th>lat</th>\n",
       "      <th>long</th>\n",
       "      <th>sqft_living15</th>\n",
       "      <th>sqft_lot15</th>\n",
       "    </tr>\n",
       "  </thead>\n",
       "  <tbody>\n",
       "    <tr>\n",
       "      <th>15870</th>\n",
       "      <td>2402100895</td>\n",
       "      <td>2014-06-25</td>\n",
       "      <td>640000.00</td>\n",
       "      <td>33</td>\n",
       "      <td>1.75</td>\n",
       "      <td>1620</td>\n",
       "      <td>6000</td>\n",
       "      <td>1.00</td>\n",
       "      <td>0</td>\n",
       "      <td>0</td>\n",
       "      <td>...</td>\n",
       "      <td>7</td>\n",
       "      <td>1040</td>\n",
       "      <td>580</td>\n",
       "      <td>1947</td>\n",
       "      <td>0</td>\n",
       "      <td>98103</td>\n",
       "      <td>47.69</td>\n",
       "      <td>-122.33</td>\n",
       "      <td>1330</td>\n",
       "      <td>4700</td>\n",
       "    </tr>\n",
       "  </tbody>\n",
       "</table>\n",
       "<p>1 rows × 21 columns</p>\n",
       "</div>"
      ],
      "text/plain": [
       "               id       date     price  bedrooms  bathrooms  sqft_living  \\\n",
       "15870  2402100895 2014-06-25 640000.00        33       1.75         1620   \n",
       "\n",
       "       sqft_lot  floors  waterfront  view  ...  grade  sqft_above  \\\n",
       "15870      6000    1.00           0     0  ...      7        1040   \n",
       "\n",
       "       sqft_basement  yr_built  yr_renovated  zipcode   lat    long  \\\n",
       "15870            580      1947             0    98103 47.69 -122.33   \n",
       "\n",
       "       sqft_living15  sqft_lot15  \n",
       "15870           1330        4700  \n",
       "\n",
       "[1 rows x 21 columns]"
      ]
     },
     "execution_count": 10,
     "metadata": {},
     "output_type": "execute_result"
    }
   ],
   "source": [
    "data[data['bedrooms'] == 33]"
   ]
  },
  {
   "cell_type": "markdown",
   "id": "aca929d4-d5cf-4def-baec-9b9f70f638db",
   "metadata": {},
   "source": [
    "Pela Tabela Descritiva nota-se que o há um imóvel com 33 quartos, no entanto seu preço e área de lote estão próximos dos valores médios, ou seja, seus valores estão distantes dos esperados para um imóvel dessas proporções.\n",
    "Assumiremos então, que houve um erro de digitação e o imóvel será removido do dataset."
   ]
  },
  {
   "cell_type": "code",
   "execution_count": 11,
   "id": "b069f846-dcd1-4d0a-a988-afdb692bdfc8",
   "metadata": {},
   "outputs": [],
   "source": [
    "data = data.drop(data[data['bedrooms'] == 33].index)"
   ]
  },
  {
   "cell_type": "markdown",
   "id": "fb76e618-f750-45c8-b4e0-ab93139f2a70",
   "metadata": {
    "tags": []
   },
   "source": [
    "# Insights"
   ]
  },
  {
   "cell_type": "code",
   "execution_count": 12,
   "id": "209817dc-f19b-412e-a538-78130b2fedfb",
   "metadata": {},
   "outputs": [],
   "source": [
    "# Setando os parãmetros para visualização dos gráficos\n",
    "sns.set()\n",
    "\n",
    "df_h = data.copy()"
   ]
  },
  {
   "cell_type": "markdown",
   "id": "e3421695-d692-42de-a71f-0324c0bf2b1d",
   "metadata": {
    "tags": []
   },
   "source": [
    "## H1: Imóveis que possuem vista para água, são 30% mais caros, na média."
   ]
  },
  {
   "cell_type": "code",
   "execution_count": 13,
   "id": "fa1806ad-a760-4a08-bbea-a50ce18ad75a",
   "metadata": {},
   "outputs": [
    {
     "data": {
      "image/png": "[encoded data removed]",
      "text/plain": [
       "<Figure size 640x480 with 1 Axes>"
      ]
     },
     "metadata": {},
     "output_type": "display_data"
    }
   ],
   "source": [
    "# Agrupando os preço dos imóveis pela vista para água\n",
    "df_grouped = df_h[['price', 'waterfront']].groupby('waterfront').mean().reset_index()\n",
    "\n",
    "sns.barplot(data=df_grouped, x='waterfront', y='price')\n",
    "plt.ticklabel_format(style='plain', axis='y')"
   ]
  },
  {
   "cell_type": "markdown",
   "id": "e59e372a-1114-440b-8249-cdd414b736ae",
   "metadata": {},
   "source": [
    "Verdadeiro. Imóveis com vista para água são em média 212.64% mais caros."
   ]
  },
  {
   "cell_type": "markdown",
   "id": "a10c1a06-c974-4aff-b3ed-6d92c94350db",
   "metadata": {
    "tags": []
   },
   "source": [
    "## H2: Imóveis com data de construção menor que 1955, são 50% mais baratos, na média."
   ]
  },
  {
   "cell_type": "code",
   "execution_count": 14,
   "id": "8db0af98-113d-45b9-a658-9b7ecb98c86f",
   "metadata": {},
   "outputs": [
    {
     "data": {
      "image/png": "[encoded data removed]",
      "text/plain": [
       "<Figure size 640x480 with 1 Axes>"
      ]
     },
     "metadata": {},
     "output_type": "display_data"
    }
   ],
   "source": [
    "# Dividindo os imóveis no ano 1955\n",
    "df_h['year_range'] = df_h['yr_built'].apply(lambda x: '1930 - 1954' if x < 1955 else '1955 - 2015')\n",
    "\n",
    "# Agrupando por período\n",
    "df_grouped = df_h[['price', 'year_range']].groupby('year_range').mean().reset_index()\n",
    "\n",
    "sns.barplot(data=df_grouped, x='year_range', y='price')\n",
    "plt.ticklabel_format(style='plain', axis='y')"
   ]
  },
  {
   "cell_type": "markdown",
   "id": "8cadaaac-ba2b-4e85-8d4e-c4673de4b29c",
   "metadata": {},
   "source": [
    "Falso. Imóveis construídos após 1955 são em média 0.79% mais caros."
   ]
  },
  {
   "cell_type": "markdown",
   "id": "8275b308-e920-4181-b52f-da918f4724e0",
   "metadata": {
    "tags": []
   },
   "source": [
    "## H3: Imóveis sem porão possuem lote 50% maior do que com porão."
   ]
  },
  {
   "cell_type": "code",
   "execution_count": 15,
   "id": "627ef1de-1571-4bdc-b93a-9926f61ac475",
   "metadata": {},
   "outputs": [
    {
     "data": {
      "image/png": "[encoded data removed]",
      "text/plain": [
       "<Figure size 640x480 with 1 Axes>"
      ]
     },
     "metadata": {},
     "output_type": "display_data"
    }
   ],
   "source": [
    "df_h['basement'] = df_h['sqft_basement'].apply(lambda x: 1 if x > 0 else 0)\n",
    "\n",
    "# Agrupando por período\n",
    "df_grouped = df_h[['sqft_lot', 'basement']].groupby('basement').mean().sort_values('sqft_lot', ascending=True).reset_index()\n",
    "\n",
    "sns.barplot(data=df_grouped, x='basement', y='sqft_lot')\n",
    "plt.ticklabel_format(style='plain', axis='y')"
   ]
  },
  {
   "cell_type": "markdown",
   "id": "cbaf1403-b91d-4899-a6bf-20cc6ce99588",
   "metadata": {},
   "source": [
    "Falso. Imóveis sem porão são em média 22.56% mais caros."
   ]
  },
  {
   "cell_type": "markdown",
   "id": "b87e3f2f-62b4-42fc-aba3-c426050697e6",
   "metadata": {
    "tags": []
   },
   "source": [
    "## H4: O crescimento do preço dos imóveis YoY (Year over Year) é de 10%."
   ]
  },
  {
   "cell_type": "code",
   "execution_count": 16,
   "id": "c8de64f1-e67b-4128-b63c-0ddfaef6db1a",
   "metadata": {},
   "outputs": [
    {
     "data": {
      "image/png": "[encoded data removed]",
      "text/plain": [
       "<Figure size 640x480 with 1 Axes>"
      ]
     },
     "metadata": {},
     "output_type": "display_data"
    }
   ],
   "source": [
    "# Criando a coluna para ano\n",
    "df_h['year'] = df_h['date'].dt.year\n",
    "\n",
    "# Agrupando os anos e calculando a média\n",
    "df_grouped = df_h[['price', 'year']].groupby('year').mean().reset_index()\n",
    "\n",
    "sns.barplot(data=df_h, x='year', y='price');"
   ]
  },
  {
   "cell_type": "markdown",
   "id": "7916cfbb-e864-4980-8f58-3c82b09d9fc2",
   "metadata": {},
   "source": [
    "Falso. O crescimento do preço YOY é de 0.52%."
   ]
  },
  {
   "cell_type": "markdown",
   "id": "236757c8-59a7-4338-85e9-c07bece170c0",
   "metadata": {
    "tags": []
   },
   "source": [
    "## H5: Imóveis com 3 banheiros tem um crescimento MoM (Month over Month) de 15%."
   ]
  },
  {
   "cell_type": "code",
   "execution_count": 17,
   "id": "7ec6f97f-a9ab-47e9-ae10-0440875cd50c",
   "metadata": {},
   "outputs": [
    {
     "data": {
      "text/plain": [
       "0.22660950627464896"
      ]
     },
     "execution_count": 17,
     "metadata": {},
     "output_type": "execute_result"
    },
    {
     "data": {
      "image/png": "[encoded data removed]",
      "text/plain": [
       "<Figure size 640x480 with 1 Axes>"
      ]
     },
     "metadata": {},
     "output_type": "display_data"
    }
   ],
   "source": [
    "df_h['month'] = df_h['date'].dt.strftime('%Y-%m')\n",
    "\n",
    "# Calculando a média dos preços dos imóveis por mês\n",
    "df_grouped = df_h.loc[df_h['bathrooms'] == 3,['price', 'month']].groupby('month').mean().reset_index()\n",
    "\n",
    "ax = sns.barplot(data=df_grouped, x='month', y='price')\n",
    "plt.xticks(rotation = 45);\n",
    "\n",
    "df_grouped['pct'] = df_grouped['price'].pct_change()*100\n",
    "df_grouped['pct'].mean()"
   ]
  },
  {
   "cell_type": "markdown",
   "id": "c94298ea-5110-4e6b-abba-1e847a12b1f0",
   "metadata": {},
   "source": [
    "Falso. A média do crescimento MoM é de 0.22%."
   ]
  },
  {
   "cell_type": "markdown",
   "id": "51657978-e6da-46a1-8956-c0e3ecf39cc9",
   "metadata": {
    "tags": []
   },
   "source": [
    "## H6: Imóveis com 3 quartos tem um crescimento MoM (Month over Month) de 15%."
   ]
  },
  {
   "cell_type": "code",
   "execution_count": 18,
   "id": "4d51c50c-6c90-4452-8e3b-e536615341d1",
   "metadata": {},
   "outputs": [
    {
     "data": {
      "text/plain": [
       "0.05730094795460183"
      ]
     },
     "execution_count": 18,
     "metadata": {},
     "output_type": "execute_result"
    },
    {
     "data": {
      "image/png": "[encoded data removed]",
      "text/plain": [
       "<Figure size 640x480 with 1 Axes>"
      ]
     },
     "metadata": {},
     "output_type": "display_data"
    }
   ],
   "source": [
    "# Calculando a média dos preços dos imóveis por mês\n",
    "df_grouped = df_h.loc[df_h['bedrooms'] == 3,['price', 'month']].groupby('month').mean().reset_index()\n",
    "\n",
    "ax = sns.barplot(data=df_grouped, x='month', y='price')\n",
    "plt.xticks(rotation = 45);\n",
    "\n",
    "df_grouped['pct'] = df_grouped['price'].pct_change()*100\n",
    "df_grouped['pct'].mean()"
   ]
  },
  {
   "cell_type": "markdown",
   "id": "7e978cd8-639d-44b6-bbc6-8b21c86c2dc8",
   "metadata": {},
   "source": [
    "Falso. A média de crescimento MoM é de 0.06%."
   ]
  },
  {
   "cell_type": "markdown",
   "id": "6c6cabf6-170a-49ad-9b08-fad5c11bbb1b",
   "metadata": {
    "tags": []
   },
   "source": [
    "## H7: Imóveis com qualidade de construção acima da média são 20% mais caros, na média."
   ]
  },
  {
   "cell_type": "code",
   "execution_count": 19,
   "id": "0b15a86b-5559-41d6-b17b-1ffccb5b2131",
   "metadata": {},
   "outputs": [
    {
     "data": {
      "image/png": "[encoded data removed]",
      "text/plain": [
       "<Figure size 640x480 with 1 Axes>"
      ]
     },
     "metadata": {},
     "output_type": "display_data"
    }
   ],
   "source": [
    "# Dividindo os imóveis pela qualidade de construção\n",
    "df_h['building_quality'] = df_h['grade'].apply(lambda x: 'below average' if x < 7 else 'above average')\n",
    "\n",
    "# Agrupando\n",
    "df_grouped = df_h[['price', 'building_quality']].groupby('building_quality').mean().reset_index()\n",
    "\n",
    "sns.barplot(data=df_grouped, x='building_quality', y='price')\n",
    "plt.ticklabel_format(style='plain', axis='y');"
   ]
  },
  {
   "cell_type": "markdown",
   "id": "78e81055-6272-4a90-96f7-5c873f12e2a7",
   "metadata": {},
   "source": [
    "Verdadeiro. Imóveis com qualidade de construção acima da média são 93% mais caros na média."
   ]
  },
  {
   "cell_type": "markdown",
   "id": "26d40133-e438-4491-9720-ef49afcfa0bf",
   "metadata": {
    "tags": []
   },
   "source": [
    "## H8: Imóveis com vista boa ou excelente são 30% mais caros, na média."
   ]
  },
  {
   "cell_type": "code",
   "execution_count": 20,
   "id": "88b846af-1b28-43ed-97be-04d183969254",
   "metadata": {},
   "outputs": [
    {
     "data": {
      "image/png": "[encoded data removed]",
      "text/plain": [
       "<Figure size 640x480 with 1 Axes>"
      ]
     },
     "metadata": {},
     "output_type": "display_data"
    }
   ],
   "source": [
    "# Dividindo os imóveis pela qualidade da vista\n",
    "df_h['view_quality'] = df_h['view'].apply(lambda x: 'below average' if x < 3 else 'above average')\n",
    "\n",
    "# Agrupando\n",
    "df_grouped = df_h[['price', 'view_quality']].groupby('view_quality').mean().reset_index()\n",
    "\n",
    "sns.barplot(data=df_grouped, x='view_quality', y='price')\n",
    "plt.ticklabel_format(style='plain', axis='y');"
   ]
  },
  {
   "cell_type": "markdown",
   "id": "d58360e8-9ccf-40f3-93ab-3a2f52290ef4",
   "metadata": {},
   "source": [
    "Verdadeiro. Imóveis com vista boa ou excelente são em média 125% mais caros."
   ]
  },
  {
   "cell_type": "markdown",
   "id": "a504482c-e3a9-4f11-8495-ec72b4a9a47f",
   "metadata": {},
   "source": [
    "## H9: Imoveis renovados são 10% mais caros do que os sem reforma."
   ]
  },
  {
   "cell_type": "code",
   "execution_count": 21,
   "id": "c815f012-8f27-4717-94b8-6ca6f6699f6f",
   "metadata": {},
   "outputs": [
    {
     "data": {
      "image/png": "[encoded data removed]",
      "text/plain": [
       "<Figure size 640x480 with 1 Axes>"
      ]
     },
     "metadata": {},
     "output_type": "display_data"
    }
   ],
   "source": [
    "# Dividindo os imóveis com renovação\n",
    "df_h['renovated'] = df_h['yr_renovated'].apply(lambda x: 'Not renovated' if x == 0 else 'Renovated')\n",
    "\n",
    "# Agrupando\n",
    "df_grouped = df_h[['price', 'renovated']].groupby('renovated').mean().reset_index()\n",
    "\n",
    "sns.barplot(data=df_grouped, x='renovated', y='price')\n",
    "plt.ticklabel_format(style='plain', axis='y');"
   ]
  },
  {
   "cell_type": "markdown",
   "id": "4d6dc2d3-cb1f-4806-8c93-9026703c4b74",
   "metadata": {},
   "source": [
    "Verdadeiro. Imóveis renovados são em média 0.43% mais caros."
   ]
  },
  {
   "cell_type": "markdown",
   "id": "25155860-e9d0-4bb8-98e7-71780075fe04",
   "metadata": {},
   "source": [
    "## H10: Imóveis com porão são 10% mais caros, na média."
   ]
  },
  {
   "cell_type": "code",
   "execution_count": 22,
   "id": "71040608-6524-48ee-ae6e-ea1c57790b5e",
   "metadata": {},
   "outputs": [
    {
     "data": {
      "image/png": "[encoded data removed]",
      "text/plain": [
       "<Figure size 640x480 with 1 Axes>"
      ]
     },
     "metadata": {},
     "output_type": "display_data"
    }
   ],
   "source": [
    "df_h['basement'] = df_h['sqft_basement'].apply(lambda x: 1 if x > 0 else 0)\n",
    "\n",
    "df_grouped = df_h[['price', 'basement']].groupby('basement').mean().reset_index()\n",
    "\n",
    "sns.barplot(data=df_grouped, x='basement', y='price')\n",
    "plt.ticklabel_format(style='plain', axis='y');"
   ]
  },
  {
   "cell_type": "markdown",
   "id": "d17f894a-fea5-48c6-b89a-0cee7fc90586",
   "metadata": {},
   "source": [
    "Verdadeiro. Imóveis com porão são em média 27% mais caros."
   ]
  },
  {
   "cell_type": "markdown",
   "id": "095389cb-c0ec-41a7-8ff2-f31211665f6a",
   "metadata": {
    "tags": []
   },
   "source": [
    "# Perguntas de negócio"
   ]
  },
  {
   "cell_type": "markdown",
   "id": "20e29107-3ed6-4d10-98db-16fd04217c93",
   "metadata": {},
   "source": [
    "## 1. Quais são os imóveis que a House Rocket deveria comprar e por qual preço?"
   ]
  },
  {
   "cell_type": "code",
   "execution_count": 23,
   "id": "7ec0d972-95f2-4dad-a3fe-01d66338d1ee",
   "metadata": {},
   "outputs": [],
   "source": [
    "df1 = data.copy()\n",
    "\n",
    "# Agrupando os imóveis por zipcode e determinano a mediana regional\n",
    "regional_price = data[['price', 'zipcode']].groupby('zipcode').median().reset_index()\n",
    "regional_price.columns = ['zipcode', 'regional_price']\n",
    "\n",
    "# Juntando os preços regionais ao dataset\n",
    "df1 = pd.merge(df1, regional_price, how='inner', on='zipcode')\n",
    "\n",
    "# Criando a coluna Status para recomendação\n",
    "df1['status'] = df1.apply(lambda line: 'Buy' if ((line['price'] < line['regional_price']) &\n",
    "                                                (line['condition'] >= 4)) else 'Do not buy', axis=1)\n",
    "\n",
    "# Exportando a tabela com as recomendações\n",
    "df1.to_csv('recommendations.csv', index=False)"
   ]
  },
  {
   "cell_type": "markdown",
   "id": "2bcccfbd-0a9d-4fd1-aa8a-181292116157",
   "metadata": {},
   "source": [
    "## 2. Uma vez o imóvel comprado, qual o melhor momento para vendê-lo e por qual preço?"
   ]
  },
  {
   "cell_type": "code",
   "execution_count": 24,
   "id": "ec92f7ed-c638-4b1c-999a-9870a2eb685b",
   "metadata": {},
   "outputs": [],
   "source": [
    "df2 = df1[df1['status'] == 'Buy'].copy()\n",
    "\n",
    "# Criando os atributos de mês e estação do ano\n",
    "df2['month'] = pd.to_datetime(df2['date']).dt.month\n",
    "df2['season'] = df2['month'].apply(lambda x: 'Winter' if (x == 12) | (x <= 2) else\n",
    "                                             'Spring' if (x >= 3) & ( x <= 5) else\n",
    "                                             'Summer' if (x >= 6) & (x <= 8) else\n",
    "                                             'Autumn')\n",
    "\n",
    "# Agrupando os imóveis por zipcode e season\n",
    "seasonal_price = df2[['price', 'zipcode', 'season']].groupby(['zipcode', 'season']).median().reset_index()\n",
    "seasonal_price.columns = ['zipcode', 'season', 'seasonal_price']\n",
    "\n",
    "# Incluindo os preços sazonais no dataset\n",
    "df2 = pd.merge(df2, seasonal_price, how='inner', on=['zipcode', 'season'])\n",
    "\n",
    "# Determinando o preço de venda com base na localização e mediana sazonal\n",
    "df2['selling_price'] = df2.apply(lambda line: line['price']*1.3 if (line['price'] < line['seasonal_price']) else\n",
    "                                line['price']*1.1, axis=1)\n",
    "\n",
    "# Calculando o lucro\n",
    "df2['revenue'] = df2.apply(lambda line: line['selling_price'] - line['price'], axis=1)\n",
    "\n",
    "# Exportando a tabela com os valores de venda\n",
    "df2 = df2.loc[:, ['id', 'date', 'price', 'bedrooms', 'bathrooms', 'sqft_living', 'sqft_lot', 'floors', 'waterfront',\n",
    "                  'view', 'condition', 'grade', 'sqft_above', 'sqft_basement', 'yr_built', 'yr_renovated',\n",
    "                  'zipcode', 'lat', 'long', 'sqft_living15', 'sqft_lot15', 'selling_price', 'revenue']]\n",
    "\n",
    "df2.to_csv('selling_prices.csv')"
   ]
  },
  {
   "cell_type": "markdown",
   "id": "d15112ae-0f10-4a92-8707-44e7f42d0dd2",
   "metadata": {},
   "source": [
    "# Resultados financeiros para o negócio"
   ]
  },
  {
   "cell_type": "code",
   "execution_count": 25,
   "id": "b843dd89-9d30-44e3-b874-7140dfbe3956",
   "metadata": {},
   "outputs": [
    {
     "data": {
      "text/plain": [
       "71771.19511554623"
      ]
     },
     "execution_count": 25,
     "metadata": {},
     "output_type": "execute_result"
    }
   ],
   "source": [
    "# Calculando a média de revenues\n",
    "revenue_mean = df2['revenue'].mean()\n",
    "revenue_mean"
   ]
  },
  {
   "cell_type": "code",
   "execution_count": 26,
   "id": "84c3fba9-9f8a-4ccb-b313-087a215340fb",
   "metadata": {},
   "outputs": [
    {
     "data": {
      "text/plain": [
       "273304711.00000006"
      ]
     },
     "execution_count": 26,
     "metadata": {},
     "output_type": "execute_result"
    }
   ],
   "source": [
    "# Calculando a soma dos revenues de cada venda\n",
    "revenue = df2['revenue'].sum()\n",
    "revenue"
   ]
  },
  {
   "cell_type": "code",
   "execution_count": null,
   "id": "199e4e39-3388-483f-8c36-1096a04faa84",
   "metadata": {},
   "outputs": [],
   "source": []
  }
 ],
 "metadata": {
  "kernelspec": {
   "display_name": "Python 3 (ipykernel)",
   "language": "python",
   "name": "python3"
  },
  "language_info": {
   "codemirror_mode": {
    "name": "ipython",
    "version": 3
   },
   "file_extension": ".py",
   "mimetype": "text/x-python",
   "name": "python",
   "nbconvert_exporter": "python",
   "pygments_lexer": "ipython3",
   "version": "3.10.6"
  }
 },
 "nbformat": 4,
 "nbformat_minor": 5
}
